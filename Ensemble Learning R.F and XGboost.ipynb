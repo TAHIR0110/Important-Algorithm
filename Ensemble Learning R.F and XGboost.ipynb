{
 "cells": [
  {
   "cell_type": "code",
   "execution_count": 5,
   "id": "4c8e8de5",
   "metadata": {},
   "outputs": [
    {
     "name": "stdout",
     "output_type": "stream",
     "text": [
      "Accuracy of the ensemble model: 1.00\n",
      "Random Forest Predictions: [1 0 2 1 1 0 1 2 1 1 2 0 0 0 0 1 2 1 1 2 0 2 0 2 2 2 2 2 0 0]\n",
      "XGBoost Predictions: [1 0 2 1 1 0 1 2 1 1 2 0 0 0 0 1 2 1 1 2 0 2 0 2 2 2 2 2 0 0]\n",
      "Ensemble Model Predictions: [1, 0, 2, 1, 1, 0, 1, 2, 1, 1, 2, 0, 0, 0, 0, 1, 2, 1, 1, 2, 0, 2, 0, 2, 2, 2, 2, 2, 0, 0]\n"
     ]
    }
   ],
   "source": [
    "import numpy as np\n",
    "from sklearn.datasets import load_iris\n",
    "from sklearn.model_selection import train_test_split\n",
    "from sklearn.ensemble import RandomForestClassifier\n",
    "import xgboost as xgb\n",
    "from sklearn.metrics import accuracy_score\n",
    "from xgboost import XGBClassifier\n",
    "\n",
    "# Load Iris dataset\n",
    "iris = load_iris()\n",
    "X = iris.data\n",
    "y = iris.target\n",
    "\n",
    "# Split the dataset into training and testing sets\n",
    "X_train, X_test, y_train, y_test = train_test_split(X, y, test_size=0.2, random_state=42)\n",
    "\n",
    "# Train Random Forest\n",
    "rf_classifier = RandomForestClassifier(n_estimators=100, random_state=42)\n",
    "rf_classifier.fit(X_train, y_train)\n",
    "\n",
    "# Train XGBoost\n",
    "params = {'n_estimators': 100, 'learning_rate': 0.1, 'random_state': 42}\n",
    "xgb_classifier = XGBClassifier(**params)\n",
    "xgb_classifier.fit(X_train, y_train)\n",
    "\n",
    "# Predictions from both models\n",
    "rf_pred = rf_classifier.predict(X_test)\n",
    "xgb_pred = xgb_classifier.predict(X_test)\n",
    "\n",
    "# Combine predictions (for example, taking the mode)\n",
    "ensemble_pred = np.array([rf_pred, xgb_pred]).T\n",
    "final_pred = [np.bincount(row).argmax() for row in ensemble_pred]\n",
    "\n",
    "# Calculate accuracy\n",
    "accuracy = accuracy_score(y_test, final_pred)\n",
    "print(f\"Accuracy of the ensemble model: {accuracy:.2f}\")\n",
    "\n",
    "# Print predictions\n",
    "print(\"Random Forest Predictions:\", rf_pred)\n",
    "print(\"XGBoost Predictions:\", xgb_pred)\n",
    "print(\"Ensemble Model Predictions:\", final_pred)\n"
   ]
  },
  {
   "cell_type": "code",
   "execution_count": null,
   "id": "17fc1a61",
   "metadata": {},
   "outputs": [],
   "source": []
  }
 ],
 "metadata": {
  "kernelspec": {
   "display_name": "Python 3 (ipykernel)",
   "language": "python",
   "name": "python3"
  },
  "language_info": {
   "codemirror_mode": {
    "name": "ipython",
    "version": 3
   },
   "file_extension": ".py",
   "mimetype": "text/x-python",
   "name": "python",
   "nbconvert_exporter": "python",
   "pygments_lexer": "ipython3",
   "version": "3.11.3"
  }
 },
 "nbformat": 4,
 "nbformat_minor": 5
}
