{
 "cells": [
  {
   "cell_type": "markdown",
   "id": "77eb5a09",
   "metadata": {},
   "source": [
    "# Ensemble Method CatBoost and RandomForest"
   ]
  },
  {
   "cell_type": "code",
   "execution_count": 36,
   "id": "79f5b4cb",
   "metadata": {},
   "outputs": [
    {
     "name": "stdout",
     "output_type": "stream",
     "text": [
      "Enter wine features separated by commas: 14.23, 2.8, 5.64, 1.71, 2.43, 15.6, 127.0, 2.8, 3.06, 0.28, 2.29, 5.64, 1.04\n",
      "The predicted wine type for the user input is: class_1\n",
      "Random Forest Classifier Accuracy: 1.00\n",
      "CatBoost Classifier Accuracy: 1.00\n",
      "Ensemble Model Accuracy: 1.00\n"
     ]
    }
   ],
   "source": [
    "from sklearn.datasets import load_wine\n",
    "from sklearn.model_selection import train_test_split\n",
    "from sklearn.ensemble import RandomForestClassifier\n",
    "from catboost import CatBoostClassifier\n",
    "from sklearn.preprocessing import LabelEncoder\n",
    "import pandas as pd\n",
    "\n",
    "data = load_wine()\n",
    "X, y = data.data, data.target\n",
    "\n",
    "X_train, X_test, y_train, y_test = train_test_split(X, y, test_size=0.2, random_state=42)\n",
    "\n",
    "rf_classifier = RandomForestClassifier(n_estimators=100, random_state=42)\n",
    "rf_classifier.fit(X_train, y_train)\n",
    "\n",
    "catboost_classifier = CatBoostClassifier(iterations=100, learning_rate=0.1, verbose=False)\n",
    "catboost_classifier.fit(X_train, y_train)\n",
    "\n",
    "def get_user_input():\n",
    "    user_input = input(\"Enter wine features separated by commas: \")\n",
    "    user_values = [float(value) for value in user_input.split(',')]\n",
    "    return user_values\n",
    "\n",
    "def ensemble_prediction(input_data):\n",
    "    rf_proba = rf_classifier.predict_proba(input_data)[0]\n",
    "    catboost_proba = catboost_classifier.predict_proba(input_data)[0]\n",
    "\n",
    "    combined_proba = (rf_proba + catboost_proba) / 2\n",
    "\n",
    "    predicted_class = combined_proba.argmax()\n",
    "\n",
    "    return predicted_class\n",
    "\n",
    "user_data = get_user_input()\n",
    "user_data_df = pd.DataFrame([user_data])\n",
    "\n",
    "predicted_class = ensemble_prediction(user_data_df)\n",
    "\n",
    "\n",
    "\n",
    "\n",
    "\n",
    "'''wine_type = wine_df['target_names'][predicted_class]'''\n",
    "#Use the above with normal datasets\n",
    "\n",
    "\n",
    "\n",
    "\n",
    "\n",
    "wine_type = data.target_names[predicted_class]\n",
    "\n",
    "print(f\"The predicted wine type for the user input is: {wine_type}\")\n",
    "\n",
    "rf_accuracy = rf_classifier.score(X_test, y_test)\n",
    "catboost_accuracy = catboost_classifier.score(X_test, y_test)\n",
    "\n",
    "print(f\"Random Forest Classifier Accuracy: {rf_accuracy:.2f}\")\n",
    "print(f\"CatBoost Classifier Accuracy: {catboost_accuracy:.2f}\")\n",
    "\n",
    "ensemble_accuracy = (rf_accuracy + catboost_accuracy) / 2\n",
    "print(f\"Ensemble Model Accuracy: {ensemble_accuracy:.2f}\")\n"
   ]
  },
  {
   "cell_type": "markdown",
   "id": "2f58e103",
   "metadata": {},
   "source": [
    "the inputs are: 14.23, 2.8, 5.64, 1.71, 2.43, 15.6, 127.0, 2.8, 3.06, 0.28, 2.29, 5.64, 1.04"
   ]
  },
  {
   "cell_type": "markdown",
   "id": "b406e074",
   "metadata": {},
   "source": [
    "# User Input:"
   ]
  },
  {
   "cell_type": "code",
   "execution_count": 25,
   "id": "86d7136e",
   "metadata": {},
   "outputs": [
    {
     "name": "stdout",
     "output_type": "stream",
     "text": [
      "Enter wine features separated by commas (alcohol, malic_acid, ash, alcalinity_of_ash, magnesium, total_phenols, flavanoids, nonflavanoid_phenols, proanthocyanins, color_intensity, hue, od280/od315_of_diluted_wines, proline): 14.23, 2.8, 5.64, 1.71, 2.43, 15.6, 127, 2.80, 3.06, 0.28, 2.29, 5.64, 1.04\n",
      "The predicted wine type for the user input is: class_1\n",
      "Random Forest Classifier Accuracy: 1.00\n",
      "CatBoost Classifier Accuracy: 1.00\n",
      "Ensemble Model Accuracy: 1.00\n"
     ]
    }
   ],
   "source": [
    "def get_user_input():\n",
    "    user_input = input(\"Enter wine features separated by commas (alcohol, malic_acid, ash, alcalinity_of_ash, magnesium, total_phenols, flavanoids, nonflavanoid_phenols, proanthocyanins, color_intensity, hue, od280/od315_of_diluted_wines, proline): \")\n",
    "    user_values = [float(value) for value in user_input.split(',')]\n",
    "    return user_values\n",
    "\n",
    "def ensemble_prediction(input_data):\n",
    "\n",
    "    rf_proba = rf_classifier.predict_proba(input_data)[0]\n",
    "    catboost_proba = catboost_classifier.predict_proba(input_data)[0]\n",
    "\n",
    "    # Combine probabilities (simple averaging for demonstration)\n",
    "    combined_proba = (rf_proba + catboost_proba) / 2\n",
    "\n",
    "    # Get the index of the class with the highest probability\n",
    "    predicted_class = combined_proba.argmax()\n",
    "\n",
    "    return predicted_class\n",
    "\n",
    "user_data = get_user_input()\n",
    "\n",
    "user_data_df = pd.DataFrame([user_data]).values\n",
    "\n",
    "predicted_class = ensemble_prediction(user_data_df)\n",
    "\n",
    "# Get the wine type label using the target classes from the dataset\n",
    "wine_type = data.target_names[predicted_class]\n",
    "\n",
    "print(f\"The predicted wine type for the user input is: {wine_type}\")\n",
    "\n",
    "# Use the test set to evaluate model accuracy\n",
    "rf_accuracy = rf_classifier.score(X_test, y_test)\n",
    "catboost_accuracy = catboost_classifier.score(X_test, y_test)\n",
    "\n",
    "print(f\"Random Forest Classifier Accuracy: {rf_accuracy:.2f}\")\n",
    "print(f\"CatBoost Classifier Accuracy: {catboost_accuracy:.2f}\")\n",
    "\n",
    "ensemble_accuracy = (rf_accuracy + catboost_accuracy) / 2\n",
    "print(f\"Ensemble Model Accuracy: {ensemble_accuracy:.2f}\")\n"
   ]
  },
  {
   "cell_type": "code",
   "execution_count": 29,
   "id": "7e7c1aa5",
   "metadata": {},
   "outputs": [
    {
     "data": {
      "text/plain": [
       "[14.23, 2.8, 5.64, 1.71, 2.43, 15.6, 127.0, 2.8, 3.06, 0.28, 2.29, 5.64, 1.04]"
      ]
     },
     "execution_count": 29,
     "metadata": {},
     "output_type": "execute_result"
    }
   ],
   "source": [
    "user_data"
   ]
  },
  {
   "cell_type": "code",
   "execution_count": 30,
   "id": "36194267",
   "metadata": {},
   "outputs": [
    {
     "data": {
      "text/plain": [
       "array([[ 14.23,   2.8 ,   5.64,   1.71,   2.43,  15.6 , 127.  ,   2.8 ,\n",
       "          3.06,   0.28,   2.29,   5.64,   1.04]])"
      ]
     },
     "execution_count": 30,
     "metadata": {},
     "output_type": "execute_result"
    }
   ],
   "source": [
    "user_data_df"
   ]
  },
  {
   "cell_type": "code",
   "execution_count": null,
   "id": "b073975a",
   "metadata": {},
   "outputs": [],
   "source": []
  }
 ],
 "metadata": {
  "kernelspec": {
   "display_name": "Python 3 (ipykernel)",
   "language": "python",
   "name": "python3"
  },
  "language_info": {
   "codemirror_mode": {
    "name": "ipython",
    "version": 3
   },
   "file_extension": ".py",
   "mimetype": "text/x-python",
   "name": "python",
   "nbconvert_exporter": "python",
   "pygments_lexer": "ipython3",
   "version": "3.11.3"
  }
 },
 "nbformat": 4,
 "nbformat_minor": 5
}
