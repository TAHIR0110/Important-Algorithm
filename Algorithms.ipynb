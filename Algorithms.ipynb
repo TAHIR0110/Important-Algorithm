{
 "cells": [
  {
   "cell_type": "markdown",
   "id": "aae1b827",
   "metadata": {},
   "source": [
    "XGBoost"
   ]
  },
  {
   "cell_type": "code",
   "execution_count": null,
   "id": "3cd0fc1b",
   "metadata": {},
   "outputs": [],
   "source": [
    "import xgboost as xgb\n",
    "from sklearn.datasets import load_iris\n",
    "from sklearn.model_selection import train_test_split\n",
    "from sklearn.metrics import accuracy_score\n",
    "\n",
    "# Load Iris dataset\n",
    "iris = load_iris()\n",
    "X = iris.data\n",
    "y = iris.target\n",
    "\n",
    "# Split the dataset into training and testing sets\n",
    "X_train, X_test, y_train, y_test = train_test_split(X, y, test_size=0.2, random_state=42)\n",
    "\n",
    "# Initialize XGBoost Classifier\n",
    "params = {'n_estimators': 100, 'learning_rate': 0.1, 'random_state': 42}\n",
    "xgb_classifier = xgb.XGBClassifier(**params)\n",
    "\n",
    "# Train the classifier\n",
    "xgb_classifier.fit(X_train, y_train)\n",
    "\n",
    "# Predict on the test set\n",
    "y_pred = xgb_classifier.predict(X_test)\n",
    "\n",
    "# Calculate accuracy\n",
    "accuracy = accuracy_score(y_test, y_pred)\n",
    "print(f\"Accuracy of XGBoost Classifier: {accuracy:.2f}\")\n"
   ]
  },
  {
   "cell_type": "markdown",
   "id": "25735656",
   "metadata": {},
   "source": [
    "GradientBoosting"
   ]
  },
  {
   "cell_type": "code",
   "execution_count": null,
   "id": "831cf1ec",
   "metadata": {},
   "outputs": [],
   "source": [
    "from sklearn.datasets import load_iris\n",
    "from sklearn.model_selection import train_test_split\n",
    "from sklearn.ensemble import GradientBoostingClassifier\n",
    "from sklearn.metrics import accuracy_score\n",
    "\n",
    "# Load Iris dataset\n",
    "iris = load_iris()\n",
    "X = iris.data\n",
    "y = iris.target\n",
    "\n",
    "# Split the dataset into training and testing sets\n",
    "X_train, X_test, y_train, y_test = train_test_split(X, y, test_size=0.2, random_state=42)\n",
    "\n",
    "# Initialize Gradient Boosting Classifier\n",
    "gb_classifier = GradientBoostingClassifier(n_estimators=100, learning_rate=0.1, random_state=42)\n",
    "\n",
    "# Train the classifier\n",
    "gb_classifier.fit(X_train, y_train)\n",
    "\n",
    "# Predict on the test set\n",
    "y_pred = gb_classifier.predict(X_test)\n",
    "\n",
    "# Calculate accuracy\n",
    "accuracy = accuracy_score(y_test, y_pred)\n",
    "print(f\"Accuracy of Gradient Boosting Classifier: {accuracy:.2f}\")\n"
   ]
  },
  {
   "cell_type": "markdown",
   "id": "3452f393",
   "metadata": {},
   "source": [
    "RandomForest and XGBoost"
   ]
  },
  {
   "cell_type": "code",
   "execution_count": 1,
   "id": "3fac1eb7",
   "metadata": {},
   "outputs": [
    {
     "name": "stdout",
     "output_type": "stream",
     "text": [
      "Accuracy of the ensemble model: 1.00\n"
     ]
    }
   ],
   "source": [
    "import numpy as np\n",
    "from sklearn.datasets import load_iris\n",
    "from sklearn.model_selection import train_test_split\n",
    "from sklearn.ensemble import RandomForestClassifier\n",
    "import xgboost as xgb\n",
    "from sklearn.metrics import accuracy_score\n",
    "from xgboost import XGBClassifier\n",
    "\n",
    "\n",
    "# Load Iris dataset\n",
    "iris = load_iris()\n",
    "X = iris.data\n",
    "\n",
    "# Split the dataset into training and testing sets\n",
    "X_train, X_test, y_train, y_test = train_test_split(X, y, test_size=0.2, random_state=42)\n",
    "\n",
    "# Train Random Forest\n",
    "rf_classifier = RandomForestClassifier(n_estimators=100, random_state=42)\n",
    "rf_classifier.fit(X_train, y_train)\n",
    "\n",
    "# Train XGBoost\n",
    "params = {'n_estimators': 100, 'learning_rate': 0.1, 'random_state': 42}\n",
    "xgb_classifier = XGBClassifier(**params)\n",
    "xgb_classifier.fit(X_train, y_train)\n",
    "\n",
    "# Predictions from both models\n",
    "rf_pred = rf_classifier.predict(X_test)\n",
    "xgb_pred = xgb_classifier.predict(X_test)\n",
    "\n",
    "# Combine predictions (for example, taking the mode)\n",
    "ensemble_pred = np.array([rf_pred, xgb_pred]).T\n",
    "final_pred = [np.bincount(row).argmax() for row in ensemble_pred]\n",
    "\n",
    "\n",
    "# Calculate accuracy\n",
    "accuracy = accuracy_score(y_test, final_pred)\n",
    "print(f\"Accuracy of the ensemble model: {accuracy:.2f}\")\n"
   ]
  },
  {
   "cell_type": "markdown",
   "id": "0def20c9",
   "metadata": {},
   "source": [
    "LinearRegression"
   ]
  },
  {
   "cell_type": "code",
   "execution_count": null,
   "id": "44b4c2a8",
   "metadata": {},
   "outputs": [],
   "source": [
    "from sklearn.datasets import load_diabetes\n",
    "from sklearn.model_selection import train_test_split\n",
    "from sklearn.linear_model import LinearRegression\n",
    "from sklearn.metrics import mean_squared_error\n",
    "\n",
    "# Load the diabetes dataset (for linear regression)\n",
    "diabetes = load_diabetes()\n",
    "X = diabetes.data\n",
    "y = diabetes.target\n",
    "\n",
    "# Split the dataset into training and testing sets\n",
    "X_train, X_test, y_train, y_test = train_test_split(X, y, test_size=0.2, random_state=42)\n",
    "\n",
    "# Initialize Linear Regression model\n",
    "linear_reg = LinearRegression()\n",
    "\n",
    "# Train the model\n",
    "linear_reg.fit(X_train, y_train)\n",
    "\n",
    "# Predict on the test set\n",
    "y_pred = linear_reg.predict(X_test)\n",
    "\n",
    "# Calculate Mean Squared Error\n",
    "mse = mean_squared_error(y_test, y_pred)\n",
    "print(f\"Mean Squared Error of Linear Regression: {mse:.2f}\")\n",
    "\n"
   ]
  },
  {
   "cell_type": "markdown",
   "id": "507a9472",
   "metadata": {},
   "source": [
    "LogisticRegression"
   ]
  },
  {
   "cell_type": "code",
   "execution_count": null,
   "id": "156aea28",
   "metadata": {},
   "outputs": [],
   "source": [
    "from sklearn.datasets import load_iris\n",
    "from sklearn.model_selection import train_test_split\n",
    "from sklearn.linear_model import LogisticRegression\n",
    "from sklearn.metrics import accuracy_score\n",
    "\n",
    "# Load the Iris dataset (for logistic regression)\n",
    "iris = load_iris()\n",
    "X = iris.data\n",
    "y = iris.target\n",
    "\n",
    "# Split the dataset into training and testing sets\n",
    "X_train, X_test, y_train, y_test = train_test_split(X, y, test_size=0.2, random_state=42)\n",
    "\n",
    "# Initialize Logistic Regression model\n",
    "logistic_reg = LogisticRegression(max_iter=1000)\n",
    "\n",
    "# Train the model\n",
    "logistic_reg.fit(X_train, y_train)\n",
    "\n",
    "# Predict on the test set\n",
    "y_pred = logistic_reg.predict(X_test)\n",
    "\n",
    "# Calculate accuracy\n",
    "accuracy = accuracy_score(y_test, y_pred)\n",
    "print(f\"Accuracy of Logistic Regression: {accuracy:.2f}\")\n"
   ]
  },
  {
   "cell_type": "markdown",
   "id": "761c64d0",
   "metadata": {},
   "source": [
    "# DA"
   ]
  },
  {
   "cell_type": "markdown",
   "id": "f3b61b3b",
   "metadata": {},
   "source": [
    "one_hot_encoded"
   ]
  },
  {
   "cell_type": "code",
   "execution_count": null,
   "id": "2873222b",
   "metadata": {},
   "outputs": [],
   "source": [
    "import pandas as pd\n",
    "\n",
    "data = {\n",
    "    'Country': ['USA', 'Canada', 'Germany', 'USA', 'Germany']\n",
    "}\n",
    "\n",
    "df = pd.DataFrame(data)\n",
    "\n",
    "one_hot_encoded = pd.get_dummies(df['Country'], prefix='Country')\n",
    "\n",
    "df = pd.concat([df, one_hot_encoded], axis=1)\n",
    "\n",
    "available_countries = ['USA', 'Canada', 'Germany', 'France', 'Australia']\n",
    "\n",
    "selected_country = eval(input(\"enter country: \"))  \n",
    "\n",
    "for country in available_countries:\n",
    "    if 'Country_' + country in df.columns:\n",
    "        df['Country_' + country] = 0\n",
    "\n",
    "if 'Country_' + selected_country in df.columns:\n",
    "    df['Country_' + selected_country] = 1\n",
    "\n",
    "print(df)\n"
   ]
  },
  {
   "cell_type": "code",
   "execution_count": null,
   "id": "72fbed2e",
   "metadata": {},
   "outputs": [],
   "source": [
    "import pandas as pd\n",
    "from sklearn.ensemble import RandomForestClassifier\n",
    "\n",
    "# Assuming 'rf_model' is the previously trained RandomForestClassifier model\n",
    "# Assuming 'df' is the original DataFrame used for training\n",
    "\n",
    "# Define sample data (Replace this with your actual data)\n",
    "data = {\n",
    "    'Country': ['England', 'Bangladesh', 'India', 'England', 'Bangladesh'],\n",
    "    'Player': ['Joe Root', 'Shakib al Hasan', 'Abdul Basith', 'Joe Root', 'Shakib al Hasan'],\n",
    "    'Base price': [100.0, 150.0, 20.0, 100.0, 150.0],\n",
    "    'Winning bid': [100, 150, 20, 100, 150],\n",
    "    'Year': [2023, 2023, 2023, 2023, 2023],\n",
    "    'target': ['Joe Root', 'Shakib al Hasan', 'Abdul Basith', 'Joe Root', 'Shakib al Hasan']\n",
    "}\n",
    "\n",
    "# Convert data to DataFrame\n",
    "df = pd.DataFrame(data)\n",
    "\n",
    "# Perform one-hot encoding for the 'Country' column\n",
    "one_hot_encoded = pd.get_dummies(df['Country'], prefix='Country')\n",
    "\n",
    "# Concatenate the one-hot encoded columns with the original DataFrame\n",
    "df = pd.concat([df, one_hot_encoded], axis=1)\n",
    "\n",
    "# Define features (X) excluding the original 'Country' column and the target variable\n",
    "X = df.drop(['Country', 'Player', 'target'], axis=1)\n",
    "\n",
    "# Define the target variable (y)\n",
    "y = df['target']\n",
    "\n",
    "# Initialize and fit the Random Forest model\n",
    "rf_model = RandomForestClassifier()\n",
    "rf_model.fit(X, y)\n",
    "\n",
    "\n",
    "base_price = float(input(\"Enter the base price: \"))\n",
    "winning_bid = float(input(\"Enter the winning bid: \"))\n",
    "year = int(input(\"Enter the year: \"))\n",
    "user_country = str(input(\"Enter a country: \"))\n",
    "\n",
    "new_data = pd.DataFrame(columns=X.columns)\n",
    "\n",
    "new_data.loc[0, 'Base price'] = base_price\n",
    "new_data.loc[0, 'Winning bid'] = winning_bid\n",
    "new_data.loc[0, 'Year'] = year\n",
    "\n",
    "new_data[f'Country_{user_country}'] = 1 if f'Country_{user_country}' in new_data.columns else 0\n",
    "\n",
    "new_data = new_data[X.columns]\n",
    "new_data_filled = new_data.fillna(0)\n",
    "\n",
    "if f'Country_{user_country}' in new_data_filled.columns:\n",
    "    predictions = rf_model.predict(new_data_filled)\n",
    "    print(f\"The predicted player for {user_country} is: {predictions[0]}\")\n",
    "else:\n",
    "    print(f\"Please enter a valid country used in the model training.\")"
   ]
  },
  {
   "cell_type": "markdown",
   "id": "dc7f6dcc",
   "metadata": {},
   "source": [
    "the below to know which column has str value"
   ]
  },
  {
   "cell_type": "code",
   "execution_count": null,
   "id": "55244bdc",
   "metadata": {},
   "outputs": [],
   "source": [
    "# Assuming 'df' is your DataFrame\n",
    "for column in df.columns:\n",
    "    if df[column].apply(type).eq(str).any():\n",
    "        print(f\"Column '{column}' contains string values.\")\n"
   ]
  },
  {
   "cell_type": "markdown",
   "id": "21c01617",
   "metadata": {},
   "source": [
    "to remove comma"
   ]
  },
  {
   "cell_type": "code",
   "execution_count": null,
   "id": "a21fd74a",
   "metadata": {},
   "outputs": [],
   "source": [
    "# Assuming 'column_name' is the column containing strings with commas\n",
    "df['Winning bid'] = df['Winning bid'].str.replace(',', '').astype(float)"
   ]
  }
 ],
 "metadata": {
  "kernelspec": {
   "display_name": "Python 3 (ipykernel)",
   "language": "python",
   "name": "python3"
  },
  "language_info": {
   "codemirror_mode": {
    "name": "ipython",
    "version": 3
   },
   "file_extension": ".py",
   "mimetype": "text/x-python",
   "name": "python",
   "nbconvert_exporter": "python",
   "pygments_lexer": "ipython3",
   "version": "3.11.3"
  }
 },
 "nbformat": 4,
 "nbformat_minor": 5
}
